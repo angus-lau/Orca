{
 "cells": [
  {
   "cell_type": "markdown",
   "metadata": {},
   "source": [
    "# Imports"
   ]
  },
  {
   "cell_type": "code",
   "execution_count": 1,
   "metadata": {},
   "outputs": [],
   "source": [
    "from models.dataset import Dataset\n",
    "from models.classification import Classifier\n",
    "import h2o\n",
    "from h2o.automl import H2OAutoML"
   ]
  },
  {
   "cell_type": "code",
   "execution_count": 2,
   "metadata": {},
   "outputs": [
    {
     "name": "stdout",
     "output_type": "stream",
     "text": [
      "Checking whether there is an H2O instance running at http://localhost:54321..... not found.\n",
      "Attempting to start a local H2O server...\n",
      "  Java Version: openjdk version \"23.0.2\" 2025-01-21; OpenJDK Runtime Environment Homebrew (build 23.0.2); OpenJDK 64-Bit Server VM Homebrew (build 23.0.2, mixed mode, sharing)\n",
      "  Starting server from /Users/angus/Documents/Projects/ORCA/venv/lib/python3.13/site-packages/h2o/backend/bin/h2o.jar\n",
      "  Ice root: /var/folders/2l/v9fcvzt179l6m_jrz3l7tmnm0000gn/T/tmpp5728vfb\n",
      "  JVM stdout: /var/folders/2l/v9fcvzt179l6m_jrz3l7tmnm0000gn/T/tmpp5728vfb/h2o_angus_started_from_python.out\n",
      "  JVM stderr: /var/folders/2l/v9fcvzt179l6m_jrz3l7tmnm0000gn/T/tmpp5728vfb/h2o_angus_started_from_python.err\n",
      "  Server is running at http://127.0.0.1:54321\n",
      "Connecting to H2O server at http://127.0.0.1:54321 ... successful.\n",
      "Warning: Your H2O cluster version is (4 months and 20 days) old.  There may be a newer version available.\n",
      "Please download and install the latest version from: https://h2o-release.s3.amazonaws.com/h2o/latest_stable.html\n"
     ]
    },
    {
     "data": {
      "text/html": [
       "\n",
       "<style>\n",
       "\n",
       "#h2o-table-1.h2o-container {\n",
       "  overflow-x: auto;\n",
       "}\n",
       "#h2o-table-1 .h2o-table {\n",
       "  /* width: 100%; */\n",
       "  margin-top: 1em;\n",
       "  margin-bottom: 1em;\n",
       "}\n",
       "#h2o-table-1 .h2o-table caption {\n",
       "  white-space: nowrap;\n",
       "  caption-side: top;\n",
       "  text-align: left;\n",
       "  /* margin-left: 1em; */\n",
       "  margin: 0;\n",
       "  font-size: larger;\n",
       "}\n",
       "#h2o-table-1 .h2o-table thead {\n",
       "  white-space: nowrap; \n",
       "  position: sticky;\n",
       "  top: 0;\n",
       "  box-shadow: 0 -1px inset;\n",
       "}\n",
       "#h2o-table-1 .h2o-table tbody {\n",
       "  overflow: auto;\n",
       "}\n",
       "#h2o-table-1 .h2o-table th,\n",
       "#h2o-table-1 .h2o-table td {\n",
       "  text-align: right;\n",
       "  /* border: 1px solid; */\n",
       "}\n",
       "#h2o-table-1 .h2o-table tr:nth-child(even) {\n",
       "  /* background: #F5F5F5 */\n",
       "}\n",
       "\n",
       "</style>      \n",
       "<div id=\"h2o-table-1\" class=\"h2o-container\">\n",
       "  <table class=\"h2o-table\">\n",
       "    <caption></caption>\n",
       "    <thead></thead>\n",
       "    <tbody><tr><td>H2O_cluster_uptime:</td>\n",
       "<td>02 secs</td></tr>\n",
       "<tr><td>H2O_cluster_timezone:</td>\n",
       "<td>America/Vancouver</td></tr>\n",
       "<tr><td>H2O_data_parsing_timezone:</td>\n",
       "<td>UTC</td></tr>\n",
       "<tr><td>H2O_cluster_version:</td>\n",
       "<td>3.46.0.6</td></tr>\n",
       "<tr><td>H2O_cluster_version_age:</td>\n",
       "<td>4 months and 20 days</td></tr>\n",
       "<tr><td>H2O_cluster_name:</td>\n",
       "<td>H2O_from_python_angus_pxunen</td></tr>\n",
       "<tr><td>H2O_cluster_total_nodes:</td>\n",
       "<td>1</td></tr>\n",
       "<tr><td>H2O_cluster_free_memory:</td>\n",
       "<td>3.984 Gb</td></tr>\n",
       "<tr><td>H2O_cluster_total_cores:</td>\n",
       "<td>8</td></tr>\n",
       "<tr><td>H2O_cluster_allowed_cores:</td>\n",
       "<td>8</td></tr>\n",
       "<tr><td>H2O_cluster_status:</td>\n",
       "<td>locked, healthy</td></tr>\n",
       "<tr><td>H2O_connection_url:</td>\n",
       "<td>http://127.0.0.1:54321</td></tr>\n",
       "<tr><td>H2O_connection_proxy:</td>\n",
       "<td>{\"http\": null, \"https\": null}</td></tr>\n",
       "<tr><td>H2O_internal_security:</td>\n",
       "<td>False</td></tr>\n",
       "<tr><td>Python_version:</td>\n",
       "<td>3.13.2 final</td></tr></tbody>\n",
       "  </table>\n",
       "</div>\n"
      ],
      "text/plain": [
       "--------------------------  -----------------------------\n",
       "H2O_cluster_uptime:         02 secs\n",
       "H2O_cluster_timezone:       America/Vancouver\n",
       "H2O_data_parsing_timezone:  UTC\n",
       "H2O_cluster_version:        3.46.0.6\n",
       "H2O_cluster_version_age:    4 months and 20 days\n",
       "H2O_cluster_name:           H2O_from_python_angus_pxunen\n",
       "H2O_cluster_total_nodes:    1\n",
       "H2O_cluster_free_memory:    3.984 Gb\n",
       "H2O_cluster_total_cores:    8\n",
       "H2O_cluster_allowed_cores:  8\n",
       "H2O_cluster_status:         locked, healthy\n",
       "H2O_connection_url:         http://127.0.0.1:54321\n",
       "H2O_connection_proxy:       {\"http\": null, \"https\": null}\n",
       "H2O_internal_security:      False\n",
       "Python_version:             3.13.2 final\n",
       "--------------------------  -----------------------------"
      ]
     },
     "metadata": {},
     "output_type": "display_data"
    },
    {
     "name": "stdout",
     "output_type": "stream",
     "text": [
      "h2o started\n"
     ]
    }
   ],
   "source": [
    "h2o.init()\n",
    "print('h2o started')"
   ]
  },
  {
   "cell_type": "markdown",
   "metadata": {},
   "source": [
    "# Dataset Class"
   ]
  },
  {
   "cell_type": "code",
   "execution_count": 3,
   "metadata": {},
   "outputs": [],
   "source": [
    "data = Dataset('data/titanic_data.csv')"
   ]
  },
  {
   "cell_type": "code",
   "execution_count": 4,
   "metadata": {},
   "outputs": [
    {
     "name": "stdout",
     "output_type": "stream",
     "text": [
      "Checking whether there is an H2O instance running at http://localhost:54321. connected.\n",
      "Warning: Your H2O cluster version is (4 months and 20 days) old.  There may be a newer version available.\n",
      "Please download and install the latest version from: https://h2o-release.s3.amazonaws.com/h2o/latest_stable.html\n"
     ]
    },
    {
     "data": {
      "text/html": [
       "\n",
       "<style>\n",
       "\n",
       "#h2o-table-2.h2o-container {\n",
       "  overflow-x: auto;\n",
       "}\n",
       "#h2o-table-2 .h2o-table {\n",
       "  /* width: 100%; */\n",
       "  margin-top: 1em;\n",
       "  margin-bottom: 1em;\n",
       "}\n",
       "#h2o-table-2 .h2o-table caption {\n",
       "  white-space: nowrap;\n",
       "  caption-side: top;\n",
       "  text-align: left;\n",
       "  /* margin-left: 1em; */\n",
       "  margin: 0;\n",
       "  font-size: larger;\n",
       "}\n",
       "#h2o-table-2 .h2o-table thead {\n",
       "  white-space: nowrap; \n",
       "  position: sticky;\n",
       "  top: 0;\n",
       "  box-shadow: 0 -1px inset;\n",
       "}\n",
       "#h2o-table-2 .h2o-table tbody {\n",
       "  overflow: auto;\n",
       "}\n",
       "#h2o-table-2 .h2o-table th,\n",
       "#h2o-table-2 .h2o-table td {\n",
       "  text-align: right;\n",
       "  /* border: 1px solid; */\n",
       "}\n",
       "#h2o-table-2 .h2o-table tr:nth-child(even) {\n",
       "  /* background: #F5F5F5 */\n",
       "}\n",
       "\n",
       "</style>      \n",
       "<div id=\"h2o-table-2\" class=\"h2o-container\">\n",
       "  <table class=\"h2o-table\">\n",
       "    <caption></caption>\n",
       "    <thead></thead>\n",
       "    <tbody><tr><td>H2O_cluster_uptime:</td>\n",
       "<td>05 secs</td></tr>\n",
       "<tr><td>H2O_cluster_timezone:</td>\n",
       "<td>America/Vancouver</td></tr>\n",
       "<tr><td>H2O_data_parsing_timezone:</td>\n",
       "<td>UTC</td></tr>\n",
       "<tr><td>H2O_cluster_version:</td>\n",
       "<td>3.46.0.6</td></tr>\n",
       "<tr><td>H2O_cluster_version_age:</td>\n",
       "<td>4 months and 20 days</td></tr>\n",
       "<tr><td>H2O_cluster_name:</td>\n",
       "<td>H2O_from_python_angus_pxunen</td></tr>\n",
       "<tr><td>H2O_cluster_total_nodes:</td>\n",
       "<td>1</td></tr>\n",
       "<tr><td>H2O_cluster_free_memory:</td>\n",
       "<td>3.977 Gb</td></tr>\n",
       "<tr><td>H2O_cluster_total_cores:</td>\n",
       "<td>8</td></tr>\n",
       "<tr><td>H2O_cluster_allowed_cores:</td>\n",
       "<td>8</td></tr>\n",
       "<tr><td>H2O_cluster_status:</td>\n",
       "<td>locked, healthy</td></tr>\n",
       "<tr><td>H2O_connection_url:</td>\n",
       "<td>http://localhost:54321</td></tr>\n",
       "<tr><td>H2O_connection_proxy:</td>\n",
       "<td>{\"http\": null, \"https\": null}</td></tr>\n",
       "<tr><td>H2O_internal_security:</td>\n",
       "<td>False</td></tr>\n",
       "<tr><td>Python_version:</td>\n",
       "<td>3.13.2 final</td></tr></tbody>\n",
       "  </table>\n",
       "</div>\n"
      ],
      "text/plain": [
       "--------------------------  -----------------------------\n",
       "H2O_cluster_uptime:         05 secs\n",
       "H2O_cluster_timezone:       America/Vancouver\n",
       "H2O_data_parsing_timezone:  UTC\n",
       "H2O_cluster_version:        3.46.0.6\n",
       "H2O_cluster_version_age:    4 months and 20 days\n",
       "H2O_cluster_name:           H2O_from_python_angus_pxunen\n",
       "H2O_cluster_total_nodes:    1\n",
       "H2O_cluster_free_memory:    3.977 Gb\n",
       "H2O_cluster_total_cores:    8\n",
       "H2O_cluster_allowed_cores:  8\n",
       "H2O_cluster_status:         locked, healthy\n",
       "H2O_connection_url:         http://localhost:54321\n",
       "H2O_connection_proxy:       {\"http\": null, \"https\": null}\n",
       "H2O_internal_security:      False\n",
       "Python_version:             3.13.2 final\n",
       "--------------------------  -----------------------------"
      ]
     },
     "metadata": {},
     "output_type": "display_data"
    },
    {
     "name": "stdout",
     "output_type": "stream",
     "text": [
      "Parse progress: |████████████████████████████████████████████████████████████████| (done) 100%\n"
     ]
    }
   ],
   "source": [
    "c_model = Classifier(\n",
    "    dataset=data.get_data(),\n",
    "    target='Survived',\n",
    "    max_models=20,\n",
    "    seed=42,\n",
    "    test=0.2,\n",
    "    exclude=['PassengerId', 'Name', 'Ticket', 'Cabin']\n",
    ")"
   ]
  },
  {
   "cell_type": "code",
   "execution_count": 5,
   "metadata": {},
   "outputs": [
    {
     "name": "stdout",
     "output_type": "stream",
     "text": [
      "AutoML progress: |\n",
      "16:44:40.985: AutoML: XGBoost is not available; skipping it.\n",
      "\n",
      "███████████████████████████████████████████████████████████████| (done) 100%\n"
     ]
    }
   ],
   "source": [
    "c_model.train_model()"
   ]
  },
  {
   "cell_type": "code",
   "execution_count": 6,
   "metadata": {},
   "outputs": [
    {
     "name": "stdout",
     "output_type": "stream",
     "text": [
      "model_id                                                      auc    logloss     aucpr    mean_per_class_error      rmse       mse\n",
      "StackedEnsemble_AllModels_1_AutoML_1_20250322_164440     0.862203   0.428065  0.834214                0.19463   0.365458  0.13356\n",
      "StackedEnsemble_BestOfFamily_1_AutoML_1_20250322_164440  0.86134    0.435587  0.826378                0.202287  0.369189  0.1363\n",
      "GBM_2_AutoML_1_20250322_164440                           0.858392   0.437125  0.821473                0.197454  0.370883  0.137554\n",
      "GBM_grid_1_AutoML_1_20250322_164440_model_3              0.857907   0.443597  0.826903                0.205909  0.373577  0.139559\n",
      "GBM_3_AutoML_1_20250322_164440                           0.857791   0.433972  0.829629                0.194167  0.368258  0.135614\n",
      "GBM_grid_1_AutoML_1_20250322_164440_model_2              0.856126   0.436509  0.827569                0.213977  0.371805  0.138239\n",
      "GBM_4_AutoML_1_20250322_164440                           0.855606   0.442992  0.821862                0.207797  0.374132  0.139975\n",
      "GBM_grid_1_AutoML_1_20250322_164440_model_1              0.854546   0.459444  0.807722                0.211419  0.381895  0.145844\n",
      "DeepLearning_grid_1_AutoML_1_20250322_164440_model_1     0.853229   0.481238  0.819613                0.204304  0.37998   0.144385\n",
      "GBM_5_AutoML_1_20250322_164440                           0.852701   0.44246   0.825638                0.203831  0.37398   0.139861\n",
      "GBM_grid_1_AutoML_1_20250322_164440_model_4              0.850937   0.449991  0.816357                0.210878  0.377438  0.14246\n",
      "DeepLearning_grid_2_AutoML_1_20250322_164440_model_1     0.850697   0.473389  0.813924                0.20081   0.380576  0.144838\n",
      "XRT_1_AutoML_1_20250322_164440                           0.846547   0.463759  0.802578                0.213041  0.38554   0.148641\n",
      "GBM_grid_1_AutoML_1_20250322_164440_model_5              0.845959   0.451136  0.814677                0.207788  0.37551   0.141008\n",
      "GLM_1_AutoML_1_20250322_164440                           0.844912   0.459858  0.799705                0.214363  0.383836  0.14733\n",
      "DeepLearning_1_AutoML_1_20250322_164440                  0.843749   0.460504  0.79954                 0.21438   0.381642  0.14565\n",
      "DeepLearning_grid_3_AutoML_1_20250322_164440_model_1     0.841307   0.501961  0.808294                0.201746  0.379325  0.143888\n",
      "DeepLearning_grid_3_AutoML_1_20250322_164440_model_2     0.839462   0.489069  0.79738                 0.209608  0.396214  0.156986\n",
      "DRF_1_AutoML_1_20250322_164440                           0.835282   0.534813  0.805379                0.214174  0.386979  0.149752\n",
      "GBM_1_AutoML_1_20250322_164440                           0.83332    0.480418  0.802285                0.231083  0.393271  0.154662\n",
      "DeepLearning_grid_2_AutoML_1_20250322_164440_model_2     0.821785   0.494807  0.779618                0.251777  0.401123  0.1609\n",
      "DeepLearning_grid_1_AutoML_1_20250322_164440_model_2     0.811713   0.535642  0.745438                0.241692  0.412074  0.169805\n",
      "[22 rows x 7 columns]\n",
      "\n"
     ]
    }
   ],
   "source": [
    "c_model.show_leaderboard()"
   ]
  },
  {
   "cell_type": "code",
   "execution_count": 7,
   "metadata": {},
   "outputs": [
    {
     "name": "stdout",
     "output_type": "stream",
     "text": [
      "stackedensemble prediction progress: |███████████████████████████████████████████| (done) 100%\n",
      "  predict           p0         p1\n",
      "        1  0.438187     0.561813\n",
      "        1  0.279402     0.720598\n",
      "        1  0.31193      0.68807\n",
      "        0  0.642667     0.357333\n",
      "        1  0.000946584  0.999053\n",
      "        1  0.292471     0.707529\n",
      "        0  0.895114     0.104886\n",
      "        0  0.854617     0.145383\n",
      "        0  0.884267     0.115733\n",
      "        0  0.930622     0.0693781\n",
      "[10 rows x 3 columns]\n",
      "\n"
     ]
    }
   ],
   "source": [
    "c_model.predict()"
   ]
  }
 ],
 "metadata": {
  "kernelspec": {
   "display_name": "venv",
   "language": "python",
   "name": "python3"
  },
  "language_info": {
   "codemirror_mode": {
    "name": "ipython",
    "version": 3
   },
   "file_extension": ".py",
   "mimetype": "text/x-python",
   "name": "python",
   "nbconvert_exporter": "python",
   "pygments_lexer": "ipython3",
   "version": "3.13.2"
  }
 },
 "nbformat": 4,
 "nbformat_minor": 2
}
