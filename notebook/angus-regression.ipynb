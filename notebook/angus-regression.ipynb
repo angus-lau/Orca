{
 "cells": [
  {
   "cell_type": "markdown",
   "metadata": {},
   "source": [
    "# Imports"
   ]
  },
  {
   "cell_type": "code",
   "execution_count": 4,
   "metadata": {},
   "outputs": [],
   "source": [
    "from models.dataset import Dataset\n",
    "from models.regression import Regressor\n",
    "import h2o\n",
    "from h2o.automl import H2OAutoML"
   ]
  },
  {
   "cell_type": "code",
   "execution_count": 2,
   "metadata": {},
   "outputs": [
    {
     "name": "stdout",
     "output_type": "stream",
     "text": [
      "Checking whether there is an H2O instance running at http://localhost:54321..... not found.\n",
      "Attempting to start a local H2O server...\n",
      "  Java Version: openjdk version \"23.0.2\" 2025-01-21; OpenJDK Runtime Environment Homebrew (build 23.0.2); OpenJDK 64-Bit Server VM Homebrew (build 23.0.2, mixed mode, sharing)\n",
      "  Starting server from /Users/angus/Documents/Projects/ORCA/venv/lib/python3.13/site-packages/h2o/backend/bin/h2o.jar\n",
      "  Ice root: /var/folders/2l/v9fcvzt179l6m_jrz3l7tmnm0000gn/T/tmpklmlxw1_\n",
      "  JVM stdout: /var/folders/2l/v9fcvzt179l6m_jrz3l7tmnm0000gn/T/tmpklmlxw1_/h2o_angus_started_from_python.out\n",
      "  JVM stderr: /var/folders/2l/v9fcvzt179l6m_jrz3l7tmnm0000gn/T/tmpklmlxw1_/h2o_angus_started_from_python.err\n",
      "  Server is running at http://127.0.0.1:54321\n",
      "Connecting to H2O server at http://127.0.0.1:54321 ... successful.\n",
      "Warning: Your H2O cluster version is (4 months and 20 days) old.  There may be a newer version available.\n",
      "Please download and install the latest version from: https://h2o-release.s3.amazonaws.com/h2o/latest_stable.html\n"
     ]
    },
    {
     "data": {
      "text/html": [
       "\n",
       "<style>\n",
       "\n",
       "#h2o-table-1.h2o-container {\n",
       "  overflow-x: auto;\n",
       "}\n",
       "#h2o-table-1 .h2o-table {\n",
       "  /* width: 100%; */\n",
       "  margin-top: 1em;\n",
       "  margin-bottom: 1em;\n",
       "}\n",
       "#h2o-table-1 .h2o-table caption {\n",
       "  white-space: nowrap;\n",
       "  caption-side: top;\n",
       "  text-align: left;\n",
       "  /* margin-left: 1em; */\n",
       "  margin: 0;\n",
       "  font-size: larger;\n",
       "}\n",
       "#h2o-table-1 .h2o-table thead {\n",
       "  white-space: nowrap; \n",
       "  position: sticky;\n",
       "  top: 0;\n",
       "  box-shadow: 0 -1px inset;\n",
       "}\n",
       "#h2o-table-1 .h2o-table tbody {\n",
       "  overflow: auto;\n",
       "}\n",
       "#h2o-table-1 .h2o-table th,\n",
       "#h2o-table-1 .h2o-table td {\n",
       "  text-align: right;\n",
       "  /* border: 1px solid; */\n",
       "}\n",
       "#h2o-table-1 .h2o-table tr:nth-child(even) {\n",
       "  /* background: #F5F5F5 */\n",
       "}\n",
       "\n",
       "</style>      \n",
       "<div id=\"h2o-table-1\" class=\"h2o-container\">\n",
       "  <table class=\"h2o-table\">\n",
       "    <caption></caption>\n",
       "    <thead></thead>\n",
       "    <tbody><tr><td>H2O_cluster_uptime:</td>\n",
       "<td>02 secs</td></tr>\n",
       "<tr><td>H2O_cluster_timezone:</td>\n",
       "<td>America/Vancouver</td></tr>\n",
       "<tr><td>H2O_data_parsing_timezone:</td>\n",
       "<td>UTC</td></tr>\n",
       "<tr><td>H2O_cluster_version:</td>\n",
       "<td>3.46.0.6</td></tr>\n",
       "<tr><td>H2O_cluster_version_age:</td>\n",
       "<td>4 months and 20 days</td></tr>\n",
       "<tr><td>H2O_cluster_name:</td>\n",
       "<td>H2O_from_python_angus_xywe9q</td></tr>\n",
       "<tr><td>H2O_cluster_total_nodes:</td>\n",
       "<td>1</td></tr>\n",
       "<tr><td>H2O_cluster_free_memory:</td>\n",
       "<td>3.984 Gb</td></tr>\n",
       "<tr><td>H2O_cluster_total_cores:</td>\n",
       "<td>8</td></tr>\n",
       "<tr><td>H2O_cluster_allowed_cores:</td>\n",
       "<td>8</td></tr>\n",
       "<tr><td>H2O_cluster_status:</td>\n",
       "<td>locked, healthy</td></tr>\n",
       "<tr><td>H2O_connection_url:</td>\n",
       "<td>http://127.0.0.1:54321</td></tr>\n",
       "<tr><td>H2O_connection_proxy:</td>\n",
       "<td>{\"http\": null, \"https\": null}</td></tr>\n",
       "<tr><td>H2O_internal_security:</td>\n",
       "<td>False</td></tr>\n",
       "<tr><td>Python_version:</td>\n",
       "<td>3.13.2 final</td></tr></tbody>\n",
       "  </table>\n",
       "</div>\n"
      ],
      "text/plain": [
       "--------------------------  -----------------------------\n",
       "H2O_cluster_uptime:         02 secs\n",
       "H2O_cluster_timezone:       America/Vancouver\n",
       "H2O_data_parsing_timezone:  UTC\n",
       "H2O_cluster_version:        3.46.0.6\n",
       "H2O_cluster_version_age:    4 months and 20 days\n",
       "H2O_cluster_name:           H2O_from_python_angus_xywe9q\n",
       "H2O_cluster_total_nodes:    1\n",
       "H2O_cluster_free_memory:    3.984 Gb\n",
       "H2O_cluster_total_cores:    8\n",
       "H2O_cluster_allowed_cores:  8\n",
       "H2O_cluster_status:         locked, healthy\n",
       "H2O_connection_url:         http://127.0.0.1:54321\n",
       "H2O_connection_proxy:       {\"http\": null, \"https\": null}\n",
       "H2O_internal_security:      False\n",
       "Python_version:             3.13.2 final\n",
       "--------------------------  -----------------------------"
      ]
     },
     "metadata": {},
     "output_type": "display_data"
    },
    {
     "name": "stdout",
     "output_type": "stream",
     "text": [
      "h2o started\n"
     ]
    }
   ],
   "source": [
    "h2o.init()\n",
    "print('h2o started')"
   ]
  },
  {
   "cell_type": "markdown",
   "metadata": {},
   "source": [
    "# Dataset Class"
   ]
  },
  {
   "cell_type": "code",
   "execution_count": 3,
   "metadata": {},
   "outputs": [],
   "source": [
    "data = Dataset('data/Housing.csv')"
   ]
  },
  {
   "cell_type": "code",
   "execution_count": 10,
   "metadata": {},
   "outputs": [
    {
     "name": "stdout",
     "output_type": "stream",
     "text": [
      "Checking whether there is an H2O instance running at http://localhost:54321. connected.\n",
      "Warning: Your H2O cluster version is (4 months and 20 days) old.  There may be a newer version available.\n",
      "Please download and install the latest version from: https://h2o-release.s3.amazonaws.com/h2o/latest_stable.html\n"
     ]
    },
    {
     "data": {
      "text/html": [
       "\n",
       "<style>\n",
       "\n",
       "#h2o-table-5.h2o-container {\n",
       "  overflow-x: auto;\n",
       "}\n",
       "#h2o-table-5 .h2o-table {\n",
       "  /* width: 100%; */\n",
       "  margin-top: 1em;\n",
       "  margin-bottom: 1em;\n",
       "}\n",
       "#h2o-table-5 .h2o-table caption {\n",
       "  white-space: nowrap;\n",
       "  caption-side: top;\n",
       "  text-align: left;\n",
       "  /* margin-left: 1em; */\n",
       "  margin: 0;\n",
       "  font-size: larger;\n",
       "}\n",
       "#h2o-table-5 .h2o-table thead {\n",
       "  white-space: nowrap; \n",
       "  position: sticky;\n",
       "  top: 0;\n",
       "  box-shadow: 0 -1px inset;\n",
       "}\n",
       "#h2o-table-5 .h2o-table tbody {\n",
       "  overflow: auto;\n",
       "}\n",
       "#h2o-table-5 .h2o-table th,\n",
       "#h2o-table-5 .h2o-table td {\n",
       "  text-align: right;\n",
       "  /* border: 1px solid; */\n",
       "}\n",
       "#h2o-table-5 .h2o-table tr:nth-child(even) {\n",
       "  /* background: #F5F5F5 */\n",
       "}\n",
       "\n",
       "</style>      \n",
       "<div id=\"h2o-table-5\" class=\"h2o-container\">\n",
       "  <table class=\"h2o-table\">\n",
       "    <caption></caption>\n",
       "    <thead></thead>\n",
       "    <tbody><tr><td>H2O_cluster_uptime:</td>\n",
       "<td>6 mins 27 secs</td></tr>\n",
       "<tr><td>H2O_cluster_timezone:</td>\n",
       "<td>America/Vancouver</td></tr>\n",
       "<tr><td>H2O_data_parsing_timezone:</td>\n",
       "<td>UTC</td></tr>\n",
       "<tr><td>H2O_cluster_version:</td>\n",
       "<td>3.46.0.6</td></tr>\n",
       "<tr><td>H2O_cluster_version_age:</td>\n",
       "<td>4 months and 20 days</td></tr>\n",
       "<tr><td>H2O_cluster_name:</td>\n",
       "<td>H2O_from_python_angus_xywe9q</td></tr>\n",
       "<tr><td>H2O_cluster_total_nodes:</td>\n",
       "<td>1</td></tr>\n",
       "<tr><td>H2O_cluster_free_memory:</td>\n",
       "<td>3.976 Gb</td></tr>\n",
       "<tr><td>H2O_cluster_total_cores:</td>\n",
       "<td>8</td></tr>\n",
       "<tr><td>H2O_cluster_allowed_cores:</td>\n",
       "<td>8</td></tr>\n",
       "<tr><td>H2O_cluster_status:</td>\n",
       "<td>locked, healthy</td></tr>\n",
       "<tr><td>H2O_connection_url:</td>\n",
       "<td>http://localhost:54321</td></tr>\n",
       "<tr><td>H2O_connection_proxy:</td>\n",
       "<td>{\"http\": null, \"https\": null}</td></tr>\n",
       "<tr><td>H2O_internal_security:</td>\n",
       "<td>False</td></tr>\n",
       "<tr><td>Python_version:</td>\n",
       "<td>3.13.2 final</td></tr></tbody>\n",
       "  </table>\n",
       "</div>\n"
      ],
      "text/plain": [
       "--------------------------  -----------------------------\n",
       "H2O_cluster_uptime:         6 mins 27 secs\n",
       "H2O_cluster_timezone:       America/Vancouver\n",
       "H2O_data_parsing_timezone:  UTC\n",
       "H2O_cluster_version:        3.46.0.6\n",
       "H2O_cluster_version_age:    4 months and 20 days\n",
       "H2O_cluster_name:           H2O_from_python_angus_xywe9q\n",
       "H2O_cluster_total_nodes:    1\n",
       "H2O_cluster_free_memory:    3.976 Gb\n",
       "H2O_cluster_total_cores:    8\n",
       "H2O_cluster_allowed_cores:  8\n",
       "H2O_cluster_status:         locked, healthy\n",
       "H2O_connection_url:         http://localhost:54321\n",
       "H2O_connection_proxy:       {\"http\": null, \"https\": null}\n",
       "H2O_internal_security:      False\n",
       "Python_version:             3.13.2 final\n",
       "--------------------------  -----------------------------"
      ]
     },
     "metadata": {},
     "output_type": "display_data"
    },
    {
     "name": "stdout",
     "output_type": "stream",
     "text": [
      "Parse progress: |████████████████████████████████████████████████████████████████| (done) 100%\n"
     ]
    }
   ],
   "source": [
    "r_model = Regressor(\n",
    "    dataset=data.get_data(),\n",
    "    target='price',\n",
    "    max_models=20,\n",
    "    seed=42,\n",
    "    test=0.2,\n",
    "    exclude=[]\n",
    ")"
   ]
  },
  {
   "cell_type": "code",
   "execution_count": 11,
   "metadata": {},
   "outputs": [
    {
     "name": "stdout",
     "output_type": "stream",
     "text": [
      "AutoML progress: |\n",
      "18:13:25.155: AutoML: XGBoost is not available; skipping it.\n",
      "\n",
      "███████████████████████████████████████████████████████████████| (done) 100%\n"
     ]
    }
   ],
   "source": [
    "r_model.train_model()"
   ]
  },
  {
   "cell_type": "code",
   "execution_count": 12,
   "metadata": {},
   "outputs": [
    {
     "name": "stdout",
     "output_type": "stream",
     "text": [
      "model_id                                                        rmse          mse               mae     rmsle    mean_residual_deviance\n",
      "StackedEnsemble_BestOfFamily_1_AutoML_1_20250322_181325  1.11731e+06  1.24838e+12  798098            0.21497                1.24838e+12\n",
      "StackedEnsemble_AllModels_1_AutoML_1_20250322_181325     1.1223e+06   1.25956e+12  800262            0.214712               1.25956e+12\n",
      "GBM_grid_1_AutoML_1_20250322_181325_model_1              1.12596e+06  1.26779e+12  804928            0.214616               1.26779e+12\n",
      "GBM_5_AutoML_1_20250322_181325                           1.13217e+06  1.28181e+12  788568            0.219797               1.28181e+12\n",
      "DRF_1_AutoML_1_20250322_181325                           1.13331e+06  1.2844e+12   799731            0.22103                1.2844e+12\n",
      "GBM_3_AutoML_1_20250322_181325                           1.13477e+06  1.28769e+12  800622            0.21852                1.28769e+12\n",
      "GBM_grid_1_AutoML_1_20250322_181325_model_2              1.1409e+06   1.30166e+12  796631            0.21803                1.30166e+12\n",
      "GBM_2_AutoML_1_20250322_181325                           1.14154e+06  1.30312e+12  807830            0.219052               1.30312e+12\n",
      "GBM_grid_1_AutoML_1_20250322_181325_model_3              1.14234e+06  1.30495e+12  801950            0.214101               1.30495e+12\n",
      "GBM_grid_1_AutoML_1_20250322_181325_model_4              1.15194e+06  1.32696e+12  832304            0.218757               1.32696e+12\n",
      "GBM_4_AutoML_1_20250322_181325                           1.16079e+06  1.34744e+12  812305            0.220708               1.34744e+12\n",
      "XRT_1_AutoML_1_20250322_181325                           1.16362e+06  1.354e+12    831566            0.227001               1.354e+12\n",
      "GBM_grid_1_AutoML_1_20250322_181325_model_5              1.16413e+06  1.35519e+12  812259            0.221695               1.35519e+12\n",
      "DeepLearning_grid_1_AutoML_1_20250322_181325_model_1     1.30569e+06  1.70482e+12  985403            0.269929               1.70482e+12\n",
      "DeepLearning_grid_3_AutoML_1_20250322_181325_model_1     1.30884e+06  1.71305e+12  985763            0.272414               1.71305e+12\n",
      "GBM_1_AutoML_1_20250322_181325                           1.33898e+06  1.79287e+12  950559            0.254216               1.79287e+12\n",
      "DeepLearning_grid_2_AutoML_1_20250322_181325_model_1     1.37541e+06  1.89174e+12  995206            0.268357               1.89174e+12\n",
      "DeepLearning_grid_1_AutoML_1_20250322_181325_model_2     1.40137e+06  1.96383e+12       1.10176e+06  0.29388                1.96383e+12\n",
      "DeepLearning_grid_2_AutoML_1_20250322_181325_model_2     1.45299e+06  2.11118e+12       1.14466e+06  0.308746               2.11118e+12\n",
      "DeepLearning_grid_3_AutoML_1_20250322_181325_model_2     1.65749e+06  2.74726e+12       1.3513e+06   0.358448               2.74726e+12\n",
      "GLM_1_AutoML_1_20250322_181325                           1.92902e+06  3.72113e+12       1.48646e+06  0.385764               3.72113e+12\n",
      "DeepLearning_1_AutoML_1_20250322_181325                  1.96449e+06  3.85923e+12       1.55648e+06  0.393228               3.85923e+12\n",
      "[22 rows x 6 columns]\n",
      "\n"
     ]
    }
   ],
   "source": [
    "r_model.show_leaderboard()"
   ]
  },
  {
   "cell_type": "code",
   "execution_count": 13,
   "metadata": {},
   "outputs": [
    {
     "name": "stdout",
     "output_type": "stream",
     "text": [
      "stackedensemble prediction progress: |███████████████████████████████████████████| (done) 100%\n",
      "    predict\n",
      "7.47662e+06\n",
      "6.70449e+06\n",
      "6.21624e+06\n",
      "5.90923e+06\n",
      "6.33866e+06\n",
      "6.72707e+06\n",
      "6.45103e+06\n",
      "7.77487e+06\n",
      "6.55759e+06\n",
      "7.142e+06\n",
      "[10 rows x 1 column]\n",
      "\n"
     ]
    }
   ],
   "source": [
    "r_model.predict()"
   ]
  }
 ],
 "metadata": {
  "kernelspec": {
   "display_name": "venv",
   "language": "python",
   "name": "python3"
  },
  "language_info": {
   "codemirror_mode": {
    "name": "ipython",
    "version": 3
   },
   "file_extension": ".py",
   "mimetype": "text/x-python",
   "name": "python",
   "nbconvert_exporter": "python",
   "pygments_lexer": "ipython3",
   "version": "3.12.7"
  }
 },
 "nbformat": 4,
 "nbformat_minor": 2
}
