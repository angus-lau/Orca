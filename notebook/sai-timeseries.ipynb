{
 "cells": [
  {
   "cell_type": "markdown",
   "metadata": {},
   "source": [
    "# Imports"
   ]
  },
  {
   "cell_type": "code",
   "execution_count": 1,
   "metadata": {},
   "outputs": [
    {
     "name": "stdout",
     "output_type": "stream",
     "text": [
      "Requirement already satisfied: joblib in ./venv/lib/python3.12/site-packages (1.4.2)\n",
      "Note: you may need to restart the kernel to use updated packages.\n"
     ]
    }
   ],
   "source": [
    "pip install joblib"
   ]
  },
  {
   "cell_type": "code",
   "execution_count": 2,
   "metadata": {},
   "outputs": [],
   "source": [
    "from models.dataset import Dataset\n",
    "from models.timeseries import TimeSeriesModel\n",
    "import h2o\n",
    " \n",
    "import joblib"
   ]
  },
  {
   "cell_type": "markdown",
   "metadata": {},
   "source": [
    "# Dataset Class"
   ]
  },
  {
   "cell_type": "code",
   "execution_count": 3,
   "metadata": {},
   "outputs": [],
   "source": [
    "microsoft = Dataset(\"data/Microsoft_Stock.csv\")"
   ]
  },
  {
   "cell_type": "code",
   "execution_count": 4,
   "metadata": {},
   "outputs": [
    {
     "data": {
      "text/plain": [
       "['Date', 'Open', 'High', 'Low', 'Close', 'Volume']"
      ]
     },
     "execution_count": 4,
     "metadata": {},
     "output_type": "execute_result"
    }
   ],
   "source": [
    "microsoft.columns()"
   ]
  },
  {
   "cell_type": "markdown",
   "metadata": {},
   "source": [
    "we've set the target on what we want to predict"
   ]
  },
  {
   "cell_type": "code",
   "execution_count": 5,
   "metadata": {},
   "outputs": [
    {
     "data": {
      "text/plain": [
       "'Close'"
      ]
     },
     "execution_count": 5,
     "metadata": {},
     "output_type": "execute_result"
    }
   ],
   "source": [
    "microsoft.set_target(\"Close\")\n",
    "microsoft.get_target()"
   ]
  },
  {
   "cell_type": "code",
   "execution_count": 6,
   "metadata": {},
   "outputs": [
    {
     "data": {
      "text/plain": [
       "['persistance/microsoft.joblib']"
      ]
     },
     "execution_count": 6,
     "metadata": {},
     "output_type": "execute_result"
    }
   ],
   "source": [
    "joblib.dump(microsoft, \"persistance/microsoft.joblib\")"
   ]
  },
  {
   "cell_type": "markdown",
   "metadata": {},
   "source": [
    "# Time Series"
   ]
  },
  {
   "cell_type": "code",
   "execution_count": 7,
   "metadata": {},
   "outputs": [
    {
     "name": "stdout",
     "output_type": "stream",
     "text": [
      "Checking whether there is an H2O instance running at http://localhost:54321..... not found.\n",
      "Attempting to start a local H2O server...\n",
      "  Java Version: java version \"23.0.1\" 2024-10-15; Java(TM) SE Runtime Environment (build 23.0.1+11-39); Java HotSpot(TM) 64-Bit Server VM (build 23.0.1+11-39, mixed mode, sharing)\n",
      "  Starting server from /Users/saiubc/Desktop/ORCA/venv/lib/python3.12/site-packages/h2o/backend/bin/h2o.jar\n",
      "  Ice root: /var/folders/jf/n451h5sn42l3d454j701td1c0000gn/T/tmpq9n7b77x\n",
      "  JVM stdout: /var/folders/jf/n451h5sn42l3d454j701td1c0000gn/T/tmpq9n7b77x/h2o_saiubc_started_from_python.out\n",
      "  JVM stderr: /var/folders/jf/n451h5sn42l3d454j701td1c0000gn/T/tmpq9n7b77x/h2o_saiubc_started_from_python.err\n",
      "  Server is running at http://127.0.0.1:54321\n",
      "Connecting to H2O server at http://127.0.0.1:54321 ... successful.\n",
      "Warning: Your H2O cluster version is (4 months and 20 days) old.  There may be a newer version available.\n",
      "Please download and install the latest version from: https://h2o-release.s3.amazonaws.com/h2o/latest_stable.html\n"
     ]
    },
    {
     "data": {
      "text/html": [
       "\n",
       "<style>\n",
       "\n",
       "#h2o-table-1.h2o-container {\n",
       "  overflow-x: auto;\n",
       "}\n",
       "#h2o-table-1 .h2o-table {\n",
       "  /* width: 100%; */\n",
       "  margin-top: 1em;\n",
       "  margin-bottom: 1em;\n",
       "}\n",
       "#h2o-table-1 .h2o-table caption {\n",
       "  white-space: nowrap;\n",
       "  caption-side: top;\n",
       "  text-align: left;\n",
       "  /* margin-left: 1em; */\n",
       "  margin: 0;\n",
       "  font-size: larger;\n",
       "}\n",
       "#h2o-table-1 .h2o-table thead {\n",
       "  white-space: nowrap; \n",
       "  position: sticky;\n",
       "  top: 0;\n",
       "  box-shadow: 0 -1px inset;\n",
       "}\n",
       "#h2o-table-1 .h2o-table tbody {\n",
       "  overflow: auto;\n",
       "}\n",
       "#h2o-table-1 .h2o-table th,\n",
       "#h2o-table-1 .h2o-table td {\n",
       "  text-align: right;\n",
       "  /* border: 1px solid; */\n",
       "}\n",
       "#h2o-table-1 .h2o-table tr:nth-child(even) {\n",
       "  /* background: #F5F5F5 */\n",
       "}\n",
       "\n",
       "</style>      \n",
       "<div id=\"h2o-table-1\" class=\"h2o-container\">\n",
       "  <table class=\"h2o-table\">\n",
       "    <caption></caption>\n",
       "    <thead></thead>\n",
       "    <tbody><tr><td>H2O_cluster_uptime:</td>\n",
       "<td>02 secs</td></tr>\n",
       "<tr><td>H2O_cluster_timezone:</td>\n",
       "<td>America/Vancouver</td></tr>\n",
       "<tr><td>H2O_data_parsing_timezone:</td>\n",
       "<td>UTC</td></tr>\n",
       "<tr><td>H2O_cluster_version:</td>\n",
       "<td>3.46.0.6</td></tr>\n",
       "<tr><td>H2O_cluster_version_age:</td>\n",
       "<td>4 months and 20 days</td></tr>\n",
       "<tr><td>H2O_cluster_name:</td>\n",
       "<td>H2O_from_python_saiubc_spxfgd</td></tr>\n",
       "<tr><td>H2O_cluster_total_nodes:</td>\n",
       "<td>1</td></tr>\n",
       "<tr><td>H2O_cluster_free_memory:</td>\n",
       "<td>1.983 Gb</td></tr>\n",
       "<tr><td>H2O_cluster_total_cores:</td>\n",
       "<td>8</td></tr>\n",
       "<tr><td>H2O_cluster_allowed_cores:</td>\n",
       "<td>8</td></tr>\n",
       "<tr><td>H2O_cluster_status:</td>\n",
       "<td>locked, healthy</td></tr>\n",
       "<tr><td>H2O_connection_url:</td>\n",
       "<td>http://127.0.0.1:54321</td></tr>\n",
       "<tr><td>H2O_connection_proxy:</td>\n",
       "<td>{\"http\": null, \"https\": null}</td></tr>\n",
       "<tr><td>H2O_internal_security:</td>\n",
       "<td>False</td></tr>\n",
       "<tr><td>Python_version:</td>\n",
       "<td>3.12.7 final</td></tr></tbody>\n",
       "  </table>\n",
       "</div>\n"
      ],
      "text/plain": [
       "--------------------------  -----------------------------\n",
       "H2O_cluster_uptime:         02 secs\n",
       "H2O_cluster_timezone:       America/Vancouver\n",
       "H2O_data_parsing_timezone:  UTC\n",
       "H2O_cluster_version:        3.46.0.6\n",
       "H2O_cluster_version_age:    4 months and 20 days\n",
       "H2O_cluster_name:           H2O_from_python_saiubc_spxfgd\n",
       "H2O_cluster_total_nodes:    1\n",
       "H2O_cluster_free_memory:    1.983 Gb\n",
       "H2O_cluster_total_cores:    8\n",
       "H2O_cluster_allowed_cores:  8\n",
       "H2O_cluster_status:         locked, healthy\n",
       "H2O_connection_url:         http://127.0.0.1:54321\n",
       "H2O_connection_proxy:       {\"http\": null, \"https\": null}\n",
       "H2O_internal_security:      False\n",
       "Python_version:             3.12.7 final\n",
       "--------------------------  -----------------------------"
      ]
     },
     "metadata": {},
     "output_type": "display_data"
    },
    {
     "name": "stdout",
     "output_type": "stream",
     "text": [
      "Parse progress: |████████████████████████████████████████████████████████████████| (done) 100%\n",
      "AutoML progress: |\n",
      "20:00:55.254: AutoML: XGBoost is not available; skipping it.\n",
      "\n",
      "███████████████████████████████████████████████████████████████| (done) 100%\n",
      "✅ Training complete.\n",
      "🏆 Best model ID: GBM_3_AutoML_1_20250322_200055\n"
     ]
    }
   ],
   "source": [
    "# Train time series model using 'Date' and predict 'Close' price\n",
    "ts_model = TimeSeriesModel(\n",
    "    dataset=microsoft,\n",
    "    date_column=\"Date\",\n",
    "    target_column=\"Close\",\n",
    "    lags=7,             # Using past 7 days to predict next\n",
    "    max_models=10,      # H2O AutoML max models\n",
    "    seed=42\n",
    ")\n",
    "\n",
    "ts_model.train()\n"
   ]
  },
  {
   "cell_type": "code",
   "execution_count": 8,
   "metadata": {},
   "outputs": [
    {
     "name": "stdout",
     "output_type": "stream",
     "text": [
      "Parse progress: |████████████████████████████████████████████████████████████████| (done) 100%\n",
      "gbm prediction progress: |███████████████████████████████████████████████████████| (done) 100%\n",
      "Parse progress: |████████████████████████████████████████████████████████████████| (done) 100%\n",
      "gbm prediction progress: |███████████████████████████████████████████████████████| (done) 100%\n",
      "Parse progress: |████████████████████████████████████████████████████████████████| (done) 100%\n",
      "gbm prediction progress: |███████████████████████████████████████████████████████| (done) 100%\n",
      "Parse progress: |████████████████████████████████████████████████████████████████| (done) 100%\n",
      "gbm prediction progress: |███████████████████████████████████████████████████████| (done) 100%\n",
      "Parse progress: |████████████████████████████████████████████████████████████████| (done) 100%\n",
      "gbm prediction progress: |███████████████████████████████████████████████████████| (done) 100%\n"
     ]
    },
    {
     "name": "stderr",
     "output_type": "stream",
     "text": [
      "/Users/saiubc/Desktop/ORCA/venv/lib/python3.12/site-packages/h2o/job.py:81: UserWarning: Test/Validation dataset is missing column 'Open': substituting in a column of NaN\n",
      "  warnings.warn(w)\n",
      "/Users/saiubc/Desktop/ORCA/venv/lib/python3.12/site-packages/h2o/job.py:81: UserWarning: Test/Validation dataset is missing column 'High': substituting in a column of NaN\n",
      "  warnings.warn(w)\n",
      "/Users/saiubc/Desktop/ORCA/venv/lib/python3.12/site-packages/h2o/job.py:81: UserWarning: Test/Validation dataset is missing column 'Low': substituting in a column of NaN\n",
      "  warnings.warn(w)\n",
      "/Users/saiubc/Desktop/ORCA/venv/lib/python3.12/site-packages/h2o/job.py:81: UserWarning: Test/Validation dataset is missing column 'Volume': substituting in a column of NaN\n",
      "  warnings.warn(w)\n",
      "/Users/saiubc/Desktop/ORCA/venv/lib/python3.12/site-packages/h2o/frame.py:1983: H2ODependencyWarning: Converting H2O frame to pandas dataframe using single-thread.  For faster conversion using multi-thread, install polars and pyarrow and use it as pandas_df = h2o_df.as_data_frame(use_multi_thread=True)\n",
      "\n",
      "  warnings.warn(\"Converting H2O frame to pandas dataframe using single-thread.  For faster conversion using\"\n",
      "/Users/saiubc/Desktop/ORCA/venv/lib/python3.12/site-packages/h2o/job.py:81: UserWarning: Test/Validation dataset is missing column 'Open': substituting in a column of NaN\n",
      "  warnings.warn(w)\n",
      "/Users/saiubc/Desktop/ORCA/venv/lib/python3.12/site-packages/h2o/job.py:81: UserWarning: Test/Validation dataset is missing column 'High': substituting in a column of NaN\n",
      "  warnings.warn(w)\n",
      "/Users/saiubc/Desktop/ORCA/venv/lib/python3.12/site-packages/h2o/job.py:81: UserWarning: Test/Validation dataset is missing column 'Low': substituting in a column of NaN\n",
      "  warnings.warn(w)\n",
      "/Users/saiubc/Desktop/ORCA/venv/lib/python3.12/site-packages/h2o/job.py:81: UserWarning: Test/Validation dataset is missing column 'Volume': substituting in a column of NaN\n",
      "  warnings.warn(w)\n",
      "/Users/saiubc/Desktop/ORCA/venv/lib/python3.12/site-packages/h2o/frame.py:1983: H2ODependencyWarning: Converting H2O frame to pandas dataframe using single-thread.  For faster conversion using multi-thread, install polars and pyarrow and use it as pandas_df = h2o_df.as_data_frame(use_multi_thread=True)\n",
      "\n",
      "  warnings.warn(\"Converting H2O frame to pandas dataframe using single-thread.  For faster conversion using\"\n",
      "/Users/saiubc/Desktop/ORCA/venv/lib/python3.12/site-packages/h2o/job.py:81: UserWarning: Test/Validation dataset is missing column 'Open': substituting in a column of NaN\n",
      "  warnings.warn(w)\n",
      "/Users/saiubc/Desktop/ORCA/venv/lib/python3.12/site-packages/h2o/job.py:81: UserWarning: Test/Validation dataset is missing column 'High': substituting in a column of NaN\n",
      "  warnings.warn(w)\n",
      "/Users/saiubc/Desktop/ORCA/venv/lib/python3.12/site-packages/h2o/job.py:81: UserWarning: Test/Validation dataset is missing column 'Low': substituting in a column of NaN\n",
      "  warnings.warn(w)\n",
      "/Users/saiubc/Desktop/ORCA/venv/lib/python3.12/site-packages/h2o/job.py:81: UserWarning: Test/Validation dataset is missing column 'Volume': substituting in a column of NaN\n",
      "  warnings.warn(w)\n",
      "/Users/saiubc/Desktop/ORCA/venv/lib/python3.12/site-packages/h2o/frame.py:1983: H2ODependencyWarning: Converting H2O frame to pandas dataframe using single-thread.  For faster conversion using multi-thread, install polars and pyarrow and use it as pandas_df = h2o_df.as_data_frame(use_multi_thread=True)\n",
      "\n",
      "  warnings.warn(\"Converting H2O frame to pandas dataframe using single-thread.  For faster conversion using\"\n",
      "/Users/saiubc/Desktop/ORCA/venv/lib/python3.12/site-packages/h2o/job.py:81: UserWarning: Test/Validation dataset is missing column 'Open': substituting in a column of NaN\n",
      "  warnings.warn(w)\n",
      "/Users/saiubc/Desktop/ORCA/venv/lib/python3.12/site-packages/h2o/job.py:81: UserWarning: Test/Validation dataset is missing column 'High': substituting in a column of NaN\n",
      "  warnings.warn(w)\n",
      "/Users/saiubc/Desktop/ORCA/venv/lib/python3.12/site-packages/h2o/job.py:81: UserWarning: Test/Validation dataset is missing column 'Low': substituting in a column of NaN\n",
      "  warnings.warn(w)\n",
      "/Users/saiubc/Desktop/ORCA/venv/lib/python3.12/site-packages/h2o/job.py:81: UserWarning: Test/Validation dataset is missing column 'Volume': substituting in a column of NaN\n",
      "  warnings.warn(w)\n",
      "/Users/saiubc/Desktop/ORCA/venv/lib/python3.12/site-packages/h2o/frame.py:1983: H2ODependencyWarning: Converting H2O frame to pandas dataframe using single-thread.  For faster conversion using multi-thread, install polars and pyarrow and use it as pandas_df = h2o_df.as_data_frame(use_multi_thread=True)\n",
      "\n",
      "  warnings.warn(\"Converting H2O frame to pandas dataframe using single-thread.  For faster conversion using\"\n",
      "/Users/saiubc/Desktop/ORCA/venv/lib/python3.12/site-packages/h2o/job.py:81: UserWarning: Test/Validation dataset is missing column 'Open': substituting in a column of NaN\n",
      "  warnings.warn(w)\n",
      "/Users/saiubc/Desktop/ORCA/venv/lib/python3.12/site-packages/h2o/job.py:81: UserWarning: Test/Validation dataset is missing column 'High': substituting in a column of NaN\n",
      "  warnings.warn(w)\n",
      "/Users/saiubc/Desktop/ORCA/venv/lib/python3.12/site-packages/h2o/job.py:81: UserWarning: Test/Validation dataset is missing column 'Low': substituting in a column of NaN\n",
      "  warnings.warn(w)\n",
      "/Users/saiubc/Desktop/ORCA/venv/lib/python3.12/site-packages/h2o/job.py:81: UserWarning: Test/Validation dataset is missing column 'Volume': substituting in a column of NaN\n",
      "  warnings.warn(w)\n",
      "/Users/saiubc/Desktop/ORCA/venv/lib/python3.12/site-packages/h2o/frame.py:1983: H2ODependencyWarning: Converting H2O frame to pandas dataframe using single-thread.  For faster conversion using multi-thread, install polars and pyarrow and use it as pandas_df = h2o_df.as_data_frame(use_multi_thread=True)\n",
      "\n",
      "  warnings.warn(\"Converting H2O frame to pandas dataframe using single-thread.  For faster conversion using\"\n"
     ]
    }
   ],
   "source": [
    "# Predict the next 5 days of Close prices\n",
    "future_preds = ts_model.forecast(steps=5)\n"
   ]
  },
  {
   "cell_type": "code",
   "execution_count": 9,
   "metadata": {},
   "outputs": [
    {
     "name": "stdout",
     "output_type": "stream",
     "text": [
      "Next 5 Close price predictions: [72.47079379147173, 70.87631448929453, 68.93722047576004, 66.16618254979396, 64.0848491242886]\n"
     ]
    }
   ],
   "source": [
    "print(\"Next 5 Close price predictions:\", future_preds)"
   ]
  },
  {
   "cell_type": "code",
   "execution_count": 10,
   "metadata": {},
   "outputs": [
    {
     "name": "stdout",
     "output_type": "stream",
     "text": [
      "model_id                                                    rmse      mse       mae       rmsle    mean_residual_deviance\n",
      "GBM_3_AutoML_1_20250322_200055                           1.1936   1.42468  0.719757  0.00891895                   1.42468\n",
      "GBM_2_AutoML_1_20250322_200055                           1.21776  1.48293  0.74297   0.00918323                   1.48293\n",
      "GBM_5_AutoML_1_20250322_200055                           1.21798  1.48348  0.733439  0.00908172                   1.48348\n",
      "StackedEnsemble_AllModels_1_AutoML_1_20250322_200055     1.21815  1.48388  0.734996  0.00908754                   1.48388\n",
      "GBM_4_AutoML_1_20250322_200055                           1.22234  1.49413  0.728322  0.00907937                   1.49413\n",
      "StackedEnsemble_BestOfFamily_1_AutoML_1_20250322_200055  1.24764  1.55661  0.754325  0.00934776                   1.55661\n",
      "GBM_grid_1_AutoML_1_20250322_200055_model_1              1.26246  1.59379  0.755835  0.00935016                   1.59379\n",
      "XRT_1_AutoML_1_20250322_200055                           1.34416  1.80677  0.818049  0.0100694                    1.80677\n",
      "DRF_1_AutoML_1_20250322_200055                           1.35252  1.82932  0.814039  0.010112                     1.82932\n",
      "GLM_1_AutoML_1_20250322_200055                           1.59187  2.53406  0.968083  0.0121434                    2.53406\n",
      "[12 rows x 6 columns]\n",
      "\n"
     ]
    }
   ],
   "source": [
    "print(ts_model.leaderboard())"
   ]
  },
  {
   "cell_type": "code",
   "execution_count": null,
   "metadata": {},
   "outputs": [
    {
     "name": "stdout",
     "output_type": "stream",
     "text": [
      "📦 Model saved at: /Users/saiubc/Desktop/ORCA/persistance/saved_models/microsoft_forecast/GBM_3_AutoML_1_20250322_200055\n"
     ]
    },
    {
     "data": {
      "text/plain": [
       "'/Users/saiubc/Desktop/ORCA/persistance/saved_models/microsoft_forecast/GBM_3_AutoML_1_20250322_200055'"
      ]
     },
     "execution_count": 11,
     "metadata": {},
     "output_type": "execute_result"
    }
   ],
   "source": [
    "ts_model.save_best_model(\"persistance/saved_models/microsoft_forecast\")"
   ]
  },
  {
   "cell_type": "code",
   "execution_count": 12,
   "metadata": {},
   "outputs": [
    {
     "name": "stdout",
     "output_type": "stream",
     "text": [
      "📊 Leader Model Summary:\n",
      "  model_id: GBM_3_AutoML_1_20250322_200055\n",
      "  algorithm: gbm\n",
      "  r2: 0.9999520708373567\n",
      "  mse: 0.1537326826275719\n",
      "  rmse: 0.39208759560533396\n",
      "  mae: 0.2598692559181376\n"
     ]
    }
   ],
   "source": [
    "summary = ts_model.get_leader_summary()"
   ]
  }
 ],
 "metadata": {
  "kernelspec": {
   "display_name": "venv",
   "language": "python",
   "name": "python3"
  },
  "language_info": {
   "codemirror_mode": {
    "name": "ipython",
    "version": 3
   },
   "file_extension": ".py",
   "mimetype": "text/x-python",
   "name": "python",
   "nbconvert_exporter": "python",
   "pygments_lexer": "ipython3",
   "version": "3.12.7"
  }
 },
 "nbformat": 4,
 "nbformat_minor": 2
}
